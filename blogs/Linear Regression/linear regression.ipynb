{
 "cells": [
  {
   "cell_type": "code",
   "execution_count": 1,
   "metadata": {},
   "outputs": [],
   "source": [
    "# import necessary libraries\n",
    "import pandas as pd\n",
    "import numpy as np\n",
    "import matplotlib.pyplot as plt"
   ]
  },
  {
   "cell_type": "code",
   "execution_count": 2,
   "metadata": {},
   "outputs": [
    {
     "data": {
      "text/plain": [
       "array([[108, 124, 167, ..., 238, 194, 280],\n",
       "       [198, 153, 166, ..., 207, 160, 158],\n",
       "       [244, 237, 193, ..., 232, 259, 229],\n",
       "       ...,\n",
       "       [216, 169, 201, ..., 154, 163, 255],\n",
       "       [226, 256, 144, ..., 100, 131, 170],\n",
       "       [212, 196, 224, ..., 284, 218, 165]])"
      ]
     },
     "execution_count": 2,
     "metadata": {},
     "output_type": "execute_result"
    }
   ],
   "source": [
    "# create dataset\n",
    "np.random.seed(100)\n",
    "dataset = np.random.randint(100, 300, size = [1000000,10])\n",
    "dataset"
   ]
  },
  {
   "cell_type": "code",
   "execution_count": 3,
   "metadata": {},
   "outputs": [
    {
     "data": {
      "text/plain": [
       "array([[145],\n",
       "       [ 61],\n",
       "       [131],\n",
       "       ...,\n",
       "       [ 57],\n",
       "       [146],\n",
       "       [ 63]])"
      ]
     },
     "execution_count": 3,
     "metadata": {},
     "output_type": "execute_result"
    }
   ],
   "source": [
    "# add target variable\n",
    "np.random.seed(101)\n",
    "target = np.random.randint(50, 150, size = [1000000,1])\n",
    "target"
   ]
  },
  {
   "cell_type": "code",
   "execution_count": 4,
   "metadata": {},
   "outputs": [
    {
     "data": {
      "text/html": [
       "<div>\n",
       "<style scoped>\n",
       "    .dataframe tbody tr th:only-of-type {\n",
       "        vertical-align: middle;\n",
       "    }\n",
       "\n",
       "    .dataframe tbody tr th {\n",
       "        vertical-align: top;\n",
       "    }\n",
       "\n",
       "    .dataframe thead th {\n",
       "        text-align: right;\n",
       "    }\n",
       "</style>\n",
       "<table border=\"1\" class=\"dataframe\">\n",
       "  <thead>\n",
       "    <tr style=\"text-align: right;\">\n",
       "      <th></th>\n",
       "      <th>0</th>\n",
       "      <th>1</th>\n",
       "      <th>2</th>\n",
       "      <th>3</th>\n",
       "      <th>4</th>\n",
       "      <th>5</th>\n",
       "      <th>6</th>\n",
       "      <th>7</th>\n",
       "      <th>8</th>\n",
       "      <th>9</th>\n",
       "      <th>target</th>\n",
       "    </tr>\n",
       "  </thead>\n",
       "  <tbody>\n",
       "    <tr>\n",
       "      <th>0</th>\n",
       "      <td>108</td>\n",
       "      <td>124</td>\n",
       "      <td>167</td>\n",
       "      <td>203</td>\n",
       "      <td>187</td>\n",
       "      <td>179</td>\n",
       "      <td>276</td>\n",
       "      <td>238</td>\n",
       "      <td>194</td>\n",
       "      <td>280</td>\n",
       "      <td>145</td>\n",
       "    </tr>\n",
       "    <tr>\n",
       "      <th>1</th>\n",
       "      <td>198</td>\n",
       "      <td>153</td>\n",
       "      <td>166</td>\n",
       "      <td>114</td>\n",
       "      <td>134</td>\n",
       "      <td>124</td>\n",
       "      <td>243</td>\n",
       "      <td>207</td>\n",
       "      <td>160</td>\n",
       "      <td>158</td>\n",
       "      <td>61</td>\n",
       "    </tr>\n",
       "    <tr>\n",
       "      <th>2</th>\n",
       "      <td>244</td>\n",
       "      <td>237</td>\n",
       "      <td>193</td>\n",
       "      <td>186</td>\n",
       "      <td>230</td>\n",
       "      <td>255</td>\n",
       "      <td>208</td>\n",
       "      <td>232</td>\n",
       "      <td>259</td>\n",
       "      <td>229</td>\n",
       "      <td>131</td>\n",
       "    </tr>\n",
       "    <tr>\n",
       "      <th>3</th>\n",
       "      <td>241</td>\n",
       "      <td>200</td>\n",
       "      <td>104</td>\n",
       "      <td>191</td>\n",
       "      <td>287</td>\n",
       "      <td>167</td>\n",
       "      <td>235</td>\n",
       "      <td>149</td>\n",
       "      <td>275</td>\n",
       "      <td>293</td>\n",
       "      <td>120</td>\n",
       "    </tr>\n",
       "    <tr>\n",
       "      <th>4</th>\n",
       "      <td>161</td>\n",
       "      <td>114</td>\n",
       "      <td>283</td>\n",
       "      <td>299</td>\n",
       "      <td>180</td>\n",
       "      <td>102</td>\n",
       "      <td>221</td>\n",
       "      <td>205</td>\n",
       "      <td>247</td>\n",
       "      <td>163</td>\n",
       "      <td>113</td>\n",
       "    </tr>\n",
       "  </tbody>\n",
       "</table>\n",
       "</div>"
      ],
      "text/plain": [
       "     0    1    2    3    4    5    6    7    8    9  target\n",
       "0  108  124  167  203  187  179  276  238  194  280     145\n",
       "1  198  153  166  114  134  124  243  207  160  158      61\n",
       "2  244  237  193  186  230  255  208  232  259  229     131\n",
       "3  241  200  104  191  287  167  235  149  275  293     120\n",
       "4  161  114  283  299  180  102  221  205  247  163     113"
      ]
     },
     "execution_count": 4,
     "metadata": {},
     "output_type": "execute_result"
    }
   ],
   "source": [
    "# convert to dataframe\n",
    "df = pd.DataFrame(dataset)\n",
    "df['target'] = target\n",
    "df.head()"
   ]
  },
  {
   "cell_type": "code",
   "execution_count": null,
   "metadata": {},
   "outputs": [],
   "source": []
  },
  {
   "cell_type": "markdown",
   "metadata": {},
   "source": [
    "### Using Gradient Descent"
   ]
  },
  {
   "cell_type": "markdown",
   "metadata": {},
   "source": [
    "We will implement this method using scikit-learn library."
   ]
  },
  {
   "cell_type": "code",
   "execution_count": 5,
   "metadata": {},
   "outputs": [],
   "source": [
    "from sklearn.linear_model import LinearRegression\n",
    "from sklearn.model_selection import train_test_split\n",
    "from sklearn.metrics import accuracy_score\n",
    "from sklearn import metrics\n",
    "\n",
    "class lr_gd:\n",
    "    def __init__(self, df, target):\n",
    "        self.df = df\n",
    "        self.target = target\n",
    "    \n",
    "    def run(self):\n",
    "        X = self.df.drop(self.target, axis=1)\n",
    "        y = self.df[self.target]\n",
    "        X_train, X_test, y_train, y_test = train_test_split(X, y, test_size = .25, random_state=42)\n",
    "        \n",
    "        # fit and train the linear regression\n",
    "        self.reg = LinearRegression()\n",
    "        self.reg.fit(X_train, y_train)\n",
    "        \n",
    "        return self.reg     \n",
    "    \n",
    "    def calculate_error(self):\n",
    "        y_pred = self.reg.predict(X_test)\n",
    "        print('Mean Absolute Error:', metrics.mean_absolute_error(y_test, y_pred))\n",
    "        print('Mean Squared Error:', metrics.mean_squared_error(y_test, y_pred))\n",
    "        print('Root Mean Squared Error:', np.sqrt(metrics.mean_squared_error(y_test, y_pred)))"
   ]
  },
  {
   "cell_type": "code",
   "execution_count": 12,
   "metadata": {},
   "outputs": [
    {
     "name": "stdout",
     "output_type": "stream",
     "text": [
      "Wall time: 766 ms\n"
     ]
    }
   ],
   "source": [
    "%%time\n",
    "reg = lr_gd(df,'target')\n",
    "r = reg.run()"
   ]
  },
  {
   "cell_type": "code",
   "execution_count": 13,
   "metadata": {},
   "outputs": [
    {
     "data": {
      "text/plain": [
       "array([ 0.00150014,  0.00111651,  0.00020152,  0.00027139,  0.00017927,\n",
       "        0.00096132, -0.00059907, -0.0012823 , -0.00065084, -0.00048191])"
      ]
     },
     "execution_count": 13,
     "metadata": {},
     "output_type": "execute_result"
    }
   ],
   "source": [
    "r.coef_"
   ]
  },
  {
   "cell_type": "code",
   "execution_count": 14,
   "metadata": {},
   "outputs": [
    {
     "data": {
      "text/plain": [
       "99.27882470006116"
      ]
     },
     "execution_count": 14,
     "metadata": {},
     "output_type": "execute_result"
    }
   ],
   "source": [
    "r.intercept_"
   ]
  },
  {
   "cell_type": "markdown",
   "metadata": {},
   "source": [
    "### Using Slope formula"
   ]
  },
  {
   "cell_type": "code",
   "execution_count": 17,
   "metadata": {},
   "outputs": [],
   "source": [
    "class lr_slope:\n",
    "    def __init__(self, df, target):\n",
    "        self.df = df\n",
    "        self.target = target\n",
    "    \n",
    "    def run(self):\n",
    "        X = self.df.drop(self.target, axis=1)\n",
    "        X['one'] = 1\n",
    "        y = self.df[self.target]\n",
    "        X_train, X_test, y_train, y_test = train_test_split(X, y, test_size = .25, random_state=42)\n",
    "        \n",
    "        # convert them into numpy array to perform matrix operations\n",
    "        np_X_train = X_train.to_numpy()\n",
    "        np_y_train = y_train.to_numpy()\n",
    "        \n",
    "        # calculte the slope from formula\n",
    "        weight = np.linalg.inv(np_X_train.T.dot(np_X_train)).dot(np_X_train.T).dot(np_y_train)\n",
    "        \n",
    "        return weight     \n"
   ]
  },
  {
   "cell_type": "code",
   "execution_count": 24,
   "metadata": {},
   "outputs": [
    {
     "name": "stdout",
     "output_type": "stream",
     "text": [
      "Wall time: 790 ms\n"
     ]
    }
   ],
   "source": [
    "%%time\n",
    "lr = lr_slope(df,'target')\n",
    "w = lr.run()"
   ]
  },
  {
   "cell_type": "code",
   "execution_count": 25,
   "metadata": {},
   "outputs": [
    {
     "data": {
      "text/plain": [
       "array([ 1.50013603e-03,  1.11651459e-03,  2.01517949e-04,  2.71392883e-04,\n",
       "        1.79273644e-04,  9.61320105e-04, -5.99071710e-04, -1.28230042e-03,\n",
       "       -6.50843172e-04, -4.81914596e-04,  9.92788247e+01])"
      ]
     },
     "execution_count": 25,
     "metadata": {},
     "output_type": "execute_result"
    }
   ],
   "source": [
    "w"
   ]
  },
  {
   "cell_type": "code",
   "execution_count": 37,
   "metadata": {},
   "outputs": [],
   "source": [
    "def get_coef_diff(weight, reg):\n",
    "    coef1 = list(reg.coef_)\n",
    "    coef1.append(reg.intercept_)\n",
    "    \n",
    "    weight1 = list(w)\n",
    "    temp = []\n",
    "    for i in range(len(coef1)):\n",
    "        temp.append(coef1[i]-weight1[i])\n",
    "    print('Difference of two wights are: \\n')\n",
    "    print(temp)\n",
    "    "
   ]
  },
  {
   "cell_type": "code",
   "execution_count": 38,
   "metadata": {},
   "outputs": [
    {
     "name": "stdout",
     "output_type": "stream",
     "text": [
      "Difference of two wights are: \n",
      "\n",
      "[1.4200880055215137e-15, -4.098284211995207e-15, 3.474325861729799e-15, -3.037880277195759e-15, -2.5719714986244258e-15, 5.125023669338979e-16, -1.0366056971133908e-15, 7.435458498905589e-16, 7.238133703513228e-16, 1.1046393834368562e-15, 8.526512829121202e-14]\n"
     ]
    }
   ],
   "source": [
    "get_coef_diff(w, r)"
   ]
  },
  {
   "cell_type": "markdown",
   "metadata": {},
   "source": [
    "We can see how close they are. Almost no difference. so why do we not use analytical formula to calculate the slope. This invite another level of discussion. But in simple, it's the computational complexity which dominates. More discussion can be found here: - [StackOverflow](#https://stats.stackexchange.com/questions/278755/why-use-gradient-descent-for-linear-regression-when-a-closed-form-math-solution)\n",
    "\n"
   ]
  },
  {
   "cell_type": "code",
   "execution_count": null,
   "metadata": {},
   "outputs": [],
   "source": []
  },
  {
   "cell_type": "markdown",
   "metadata": {},
   "source": [
    "## END"
   ]
  }
 ],
 "metadata": {
  "kernelspec": {
   "display_name": "Python 3",
   "language": "python",
   "name": "python3"
  },
  "language_info": {
   "codemirror_mode": {
    "name": "ipython",
    "version": 3
   },
   "file_extension": ".py",
   "mimetype": "text/x-python",
   "name": "python",
   "nbconvert_exporter": "python",
   "pygments_lexer": "ipython3",
   "version": "3.8.5"
  }
 },
 "nbformat": 4,
 "nbformat_minor": 4
}
